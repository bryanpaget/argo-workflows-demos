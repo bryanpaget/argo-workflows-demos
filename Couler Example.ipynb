{
 "cells": [
  {
   "cell_type": "markdown",
   "id": "3a0378a8-32e9-49fa-96ab-344ec31f82f6",
   "metadata": {
    "execution": {
     "iopub.execute_input": "2023-02-21T17:59:38.217882Z",
     "iopub.status.busy": "2023-02-21T17:59:38.217593Z",
     "iopub.status.idle": "2023-02-21T17:59:38.221002Z",
     "shell.execute_reply": "2023-02-21T17:59:38.220545Z",
     "shell.execute_reply.started": "2023-02-21T17:59:38.217830Z"
    },
    "tags": []
   },
   "source": [
    "# Couler Examples"
   ]
  },
  {
   "cell_type": "markdown",
   "id": "b998c71e-440a-4169-9d05-db7d9c8f5d43",
   "metadata": {
    "execution": {
     "iopub.execute_input": "2023-02-22T20:41:58.272783Z",
     "iopub.status.busy": "2023-02-22T20:41:58.272422Z",
     "iopub.status.idle": "2023-02-22T20:41:58.274918Z",
     "shell.execute_reply": "2023-02-22T20:41:58.274545Z",
     "shell.execute_reply.started": "2023-02-22T20:41:58.272766Z"
    }
   },
   "source": [
    "## Prepare your system"
   ]
  },
  {
   "cell_type": "code",
   "execution_count": null,
   "id": "4f89fdde-a0f5-454d-9884-178f9708a315",
   "metadata": {
    "tags": []
   },
   "outputs": [],
   "source": [
    "NAMESPACE = \"<your-namespace>\""
   ]
  },
  {
   "cell_type": "code",
   "execution_count": null,
   "id": "c3fccebc-d905-435a-bdeb-6f4382668d13",
   "metadata": {
    "tags": []
   },
   "outputs": [],
   "source": [
    "!pip config --user set global.index-url https://jfrog.aaw.cloud.statcan.ca/artifactory/api/pypi/pypi-remote/simple\n",
    "!python3 -m pip install git+https://github.com/couler-proj/couler --ignore-installed"
   ]
  },
  {
   "cell_type": "markdown",
   "id": "f7eb1e1d-56db-4e0d-955e-daf6e062fa2a",
   "metadata": {
    "tags": []
   },
   "source": [
    "## Whalesay!"
   ]
  },
  {
   "cell_type": "raw",
   "id": "01110177-4b0e-450a-9a97-f9d07fa3baea",
   "metadata": {},
   "source": [
    "$ docker run docker/whalesay cowsay \"hello world\"\n",
    " _____________\n",
    "< hello world >\n",
    " -------------\n",
    "    \\\n",
    "     \\\n",
    "      \\\n",
    "                    ##        .\n",
    "              ## ## ##       ==\n",
    "           ## ## ## ##      ===\n",
    "       /\"\"\"\"\"\"\"\"\"\"\"\"\"\"\"\"___/ ===\n",
    "  ~~~ {~~ ~~~~ ~~~ ~~~~ ~~ ~ /  ===- ~~~\n",
    "       \\______ o          __/\n",
    "        \\    \\        __/\n",
    "          \\____\\______/"
   ]
  },
  {
   "cell_type": "markdown",
   "id": "8c97dfa9-4d9e-449d-ad68-e65adcb19c22",
   "metadata": {
    "execution": {
     "iopub.execute_input": "2023-02-22T20:55:22.136726Z",
     "iopub.status.busy": "2023-02-22T20:55:22.136497Z",
     "iopub.status.idle": "2023-02-22T20:55:22.139550Z",
     "shell.execute_reply": "2023-02-22T20:55:22.139020Z",
     "shell.execute_reply.started": "2023-02-22T20:55:22.136709Z"
    }
   },
   "source": [
    "## Import the appropriate libraries"
   ]
  },
  {
   "cell_type": "code",
   "execution_count": null,
   "id": "015a9580-00a8-434c-a03c-66931726c4cc",
   "metadata": {
    "tags": []
   },
   "outputs": [],
   "source": [
    "import json\n",
    "import random\n",
    "\n",
    "import couler.argo as couler\n",
    "from couler.argo_submitter import ArgoSubmitter"
   ]
  },
  {
   "cell_type": "code",
   "execution_count": null,
   "id": "5ad45432-f6e2-46fa-b32c-992ce7397086",
   "metadata": {
    "tags": []
   },
   "outputs": [],
   "source": [
    "## A simple example with cowsay.\n",
    "\n",
    "couler.run_container(\n",
    "    image=\"docker/whalesay\",\n",
    "    command=[\"cowsay\"],\n",
    "    args=[\"hello world\"]\n",
    ")\n",
    "\n",
    "\n",
    "submitter = ArgoSubmitter(namespace=NAMESPACE)\n",
    "result = couler.run(submitter=submitter)\n",
    "\n",
    "print(json.dumps(result, indent=2))"
   ]
  },
  {
   "cell_type": "markdown",
   "id": "d3bb09eb-382d-4fbb-a26c-478a3696dd34",
   "metadata": {
    "tags": []
   },
   "source": [
    "## A slightly more complex example."
   ]
  },
  {
   "cell_type": "code",
   "execution_count": null,
   "id": "63c34a1f-749a-4786-831a-406993e74c64",
   "metadata": {
    "tags": []
   },
   "outputs": [],
   "source": [
    "def random_code():\n",
    "    import random\n",
    "    res = \"heads\" if random.randint(0, 1) == 0 else \"tails\"\n",
    "    print(res)\n",
    "\n",
    "\n",
    "def flip_coin():\n",
    "    return couler.run_script(image=\"python:alpine3.6\", source=random_code)\n",
    "\n",
    "\n",
    "def heads():\n",
    "    return couler.run_container(\n",
    "        image=\"alpine:3.6\", command=[\"sh\", \"-c\", 'echo \"it was heads\"']\n",
    "    )\n",
    "\n",
    "\n",
    "def tails():\n",
    "    return couler.run_container(\n",
    "        image=\"alpine:3.6\", command=[\"sh\", \"-c\", 'echo \"it was tails\"']\n",
    "    )\n",
    "\n",
    "\n",
    "result = flip_coin()\n",
    "\n",
    "couler.when(couler.equal(result, \"heads\"), lambda: heads())\n",
    "couler.when(couler.equal(result, \"tails\"), lambda: tails())\n",
    "\n",
    "submitter = ArgoSubmitter(namespace=\"<your-kubeflow-namespace>\")\n",
    "result = couler.run(submitter=submitter)\n",
    "\n",
    "print(json.dumps(result, indent=2))"
   ]
  },
  {
   "cell_type": "markdown",
   "id": "f200b022-a0cc-47b2-ab3c-2f1732e70b62",
   "metadata": {
    "execution": {
     "iopub.execute_input": "2023-02-22T20:41:07.056817Z",
     "iopub.status.busy": "2023-02-22T20:41:07.056377Z",
     "iopub.status.idle": "2023-02-22T20:41:07.059822Z",
     "shell.execute_reply": "2023-02-22T20:41:07.059400Z",
     "shell.execute_reply.started": "2023-02-22T20:41:07.056755Z"
    },
    "tags": []
   },
   "source": [
    "## The above Couler code generates the following Kubernetes YAML"
   ]
  },
  {
   "cell_type": "raw",
   "id": "bc37ca77-8fbf-48aa-b5f6-a43bf7c5c3f9",
   "metadata": {},
   "source": [
    "apiVersion: argoproj.io/v1alpha1\n",
    "kind: Workflow\n",
    "metadata:\n",
    "  generateName: couler-example-\n",
    "spec:\n",
    "  templates:\n",
    "    - name: couler-example\n",
    "      steps:\n",
    "        - - name: flip-coin-29\n",
    "            template: flip-coin\n",
    "        - - name: heads-31\n",
    "            template: heads\n",
    "            when: '{{steps.flip-coin-29.outputs.result}} == heads'\n",
    "          - name: tails-32\n",
    "            template: tails\n",
    "            when: '{{steps.flip-coin-29.outputs.result}} == tails'\n",
    "    - name: flip-coin\n",
    "      script:\n",
    "        name: ''\n",
    "        image: 'python:alpine3.6'\n",
    "        command:\n",
    "          - python\n",
    "        source: |import randomres = \"heads\" if random.randint(0, 1) == 0 else \"tails\"\n",
    "          print(res)\n",
    "    - name: heads\n",
    "      container:\n",
    "        image: 'alpine:3.6'\n",
    "        command:\n",
    "          - sh\n",
    "          - '-c'\n",
    "          - echo \"it was heads\"\n",
    "    - name: tails\n",
    "      container:\n",
    "        image: 'alpine:3.6'\n",
    "        command:\n",
    "          - sh\n",
    "          - '-c'\n",
    "          - echo \"it was tails\"\n",
    "  entrypoint: couler-example\n",
    "  ttlStrategy:\n",
    "    secondsAfterCompletion: 600\n",
    "  activeDeadlineSeconds: 300"
   ]
  },
  {
   "cell_type": "markdown",
   "id": "6bcda6c7-6281-4177-8ff1-148e91638fee",
   "metadata": {
    "tags": []
   },
   "source": [
    "## An example with a directed acyclic graph (DAG)."
   ]
  },
  {
   "cell_type": "code",
   "execution_count": null,
   "id": "e4664f78-7f10-4a58-9147-a84da0da9cf7",
   "metadata": {
    "tags": []
   },
   "outputs": [],
   "source": [
    "def job(name):\n",
    "    couler.run_container(\n",
    "        image=\"docker/whalesay:latest\",\n",
    "        command=[\"cowsay\"],\n",
    "        args=[name],\n",
    "        step_name=name,\n",
    "    )\n",
    "\n",
    "\n",
    "#     A\n",
    "#    / \\\n",
    "#   B   C\n",
    "#  /\n",
    "# D\n",
    "def linear():\n",
    "    couler.set_dependencies(lambda: job(name=\"A\"), dependencies=None)\n",
    "    couler.set_dependencies(lambda: job(name=\"B\"), dependencies=[\"A\"])\n",
    "    couler.set_dependencies(lambda: job(name=\"C\"), dependencies=[\"A\"])\n",
    "    couler.set_dependencies(lambda: job(name=\"D\"), dependencies=[\"B\"])\n",
    "\n",
    "\n",
    "#   A\n",
    "#  / \\\n",
    "# B   C\n",
    "#  \\ /\n",
    "#   D\n",
    "def diamond():\n",
    "    couler.dag(\n",
    "        [\n",
    "            [lambda: job(name=\"A\")],\n",
    "            [lambda: job(name=\"A\"), lambda: job(name=\"B\")],  # A -> B\n",
    "            [lambda: job(name=\"A\"), lambda: job(name=\"C\")],  # A -> C\n",
    "            [lambda: job(name=\"B\"), lambda: job(name=\"D\")],  # B -> D\n",
    "            [lambda: job(name=\"C\"), lambda: job(name=\"D\")],  # C -> D\n",
    "        ]\n",
    "    )\n",
    "\n",
    "\n",
    "linear()\n",
    "submitter = ArgoSubmitter(namespace=\"<your-kubeflow-namespace>\")\n",
    "result = couler.run(submitter=submitter)\n",
    "\n",
    "print(json.dumps(result, indent=2))"
   ]
  }
 ],
 "metadata": {
  "kernelspec": {
   "display_name": "Python 3 (ipykernel)",
   "language": "python",
   "name": "python3"
  },
  "language_info": {
   "codemirror_mode": {
    "name": "ipython",
    "version": 3
   },
   "file_extension": ".py",
   "mimetype": "text/x-python",
   "name": "python",
   "nbconvert_exporter": "python",
   "pygments_lexer": "ipython3",
   "version": "3.9.13"
  }
 },
 "nbformat": 4,
 "nbformat_minor": 5
}
