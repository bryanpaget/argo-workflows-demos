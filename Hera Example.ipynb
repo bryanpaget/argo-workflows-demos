{
 "cells": [
  {
   "cell_type": "markdown",
   "id": "8b031428-afc6-4bc2-ac48-1f45e727916b",
   "metadata": {
    "execution": {
     "iopub.execute_input": "2023-02-21T17:59:38.217882Z",
     "iopub.status.busy": "2023-02-21T17:59:38.217593Z",
     "iopub.status.idle": "2023-02-21T17:59:38.221002Z",
     "shell.execute_reply": "2023-02-21T17:59:38.220545Z",
     "shell.execute_reply.started": "2023-02-21T17:59:38.217830Z"
    },
    "tags": []
   },
   "source": [
    "# Hera Examples"
   ]
  },
  {
   "cell_type": "markdown",
   "id": "cdfd7e56-3474-4643-b048-27f805dc9653",
   "metadata": {},
   "source": [
    "## Demonstration on YouTube:\n",
    "\n",
    "https://www.youtube.com/watch?v=QETfzfVV-GY&t=181s"
   ]
  },
  {
   "cell_type": "markdown",
   "id": "8378e591-46d4-41f5-9c90-d8a8518906ad",
   "metadata": {
    "execution": {
     "iopub.execute_input": "2023-02-22T20:41:58.272783Z",
     "iopub.status.busy": "2023-02-22T20:41:58.272422Z",
     "iopub.status.idle": "2023-02-22T20:41:58.274918Z",
     "shell.execute_reply": "2023-02-22T20:41:58.274545Z",
     "shell.execute_reply.started": "2023-02-22T20:41:58.272766Z"
    }
   },
   "source": [
    "## Prepare your system"
   ]
  },
  {
   "cell_type": "code",
   "execution_count": null,
   "id": "8b561407-ea1f-4e53-87e5-5fbb0fd9cf05",
   "metadata": {
    "tags": []
   },
   "outputs": [],
   "source": [
    "!pip config --user set global.index-url https://jfrog.aaw.cloud.statcan.ca/artifactory/api/pypi/pypi-remote/simple\n",
    "!pip install hera-workflows"
   ]
  },
  {
   "cell_type": "code",
   "execution_count": null,
   "id": "7fbfa305-b1a6-42f8-8341-e2169d34cd58",
   "metadata": {
    "tags": []
   },
   "outputs": [],
   "source": [
    "import hera"
   ]
  },
  {
   "cell_type": "code",
   "execution_count": null,
   "id": "c2bdaf1b-8915-4a85-a202-86132db9a6f3",
   "metadata": {
    "tags": []
   },
   "outputs": [],
   "source": [
    "import os\n",
    "\n",
    "NAMESPACE = os.environ(\"NB_NAMESPACE\") # \"<your-kubeflow-namespace>\"\n",
    "ARGO_INSTANCE = \"https://argo-workflows.aaw-dev.cloud.statcan.ca:443\" # should remove -dev before release\n",
    "\n",
    "hera.global_config.GlobalConfig.token = \"<your-argo-workflows-token>\"\n",
    "hera.global_config.GlobalConfig.host = ARGO_INSTANCE\n",
    "hera.global_config.GlobalConfig.namespace = NAMESPACE # \"<your-kubeflow-namespace>\"\n",
    "hera.global_config.GlobalConfig.service_account_name = NAMESPACE # \"<your-kubeflow-profile>\"\n",
    "\n",
    "#Feel free to try the default account if your account name is not accepted:\n",
    "#hera.global_config.GlobalConfig.service_account_name = \"default-editor\""
   ]
  },
  {
   "cell_type": "code",
   "execution_count": null,
   "id": "8abcbfea-2384-40c1-8134-904ee0a1bbae",
   "metadata": {
    "tags": []
   },
   "outputs": [],
   "source": [
    "from hera import Task, Workflow\n",
    "import random\n",
    "\n",
    "def random_code():\n",
    "    res = \"heads\" if random.randint(0, 1) == 0 else \"tails\"\n",
    "    print(res)\n",
    "\n",
    "\n",
    "def heads():\n",
    "    print(\"it was heads\")\n",
    "\n",
    "\n",
    "def tails():\n",
    "    print(\"it was tails\")\n",
    "\n",
    "\n",
    "with Workflow(\"coin-flip\") as w:\n",
    "    r = Task(\"r\", random_code)\n",
    "    h = Task(\"h\", heads)\n",
    "    t = Task(\"t\", tails)\n",
    "\n",
    "    h.on_other_result(r, \"heads\")\n",
    "    t.on_other_result(r, \"tails\")\n",
    "\n",
    "w.create()"
   ]
  }
 ],
 "metadata": {
  "kernelspec": {
   "display_name": "Python 3",
   "language": "python",
   "name": "python3"
  },
  "language_info": {
   "codemirror_mode": {
    "name": "ipython",
    "version": 3
   },
   "file_extension": ".py",
   "mimetype": "text/x-python",
   "name": "python",
   "nbconvert_exporter": "python",
   "pygments_lexer": "ipython3",
   "version": "3.10.6"
  },
  "vscode": {
   "interpreter": {
    "hash": "916dbcbb3f70747c44a77c7bcd40155683ae19c65e1c03b4aa3499c5328201f1"
   }
  }
 },
 "nbformat": 4,
 "nbformat_minor": 5
}
